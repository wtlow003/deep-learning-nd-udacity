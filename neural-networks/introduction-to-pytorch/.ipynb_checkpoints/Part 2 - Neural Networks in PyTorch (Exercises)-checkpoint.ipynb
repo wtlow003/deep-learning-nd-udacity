{
 "cells": [
  {
   "cell_type": "markdown",
   "metadata": {},
   "source": [
    "# Neural networks with PyTorch\n",
    "\n",
    "Deep learning networks tend to be massive with dozens or hundreds of layers, that's where the term \"deep\" comes from. You can build one of these deep networks using only weight matrices as we did in the previous notebook, but in general it's very cumbersome and difficult to implement. PyTorch has a nice module `nn` that provides a nice way to efficiently build large neural networks."
   ]
  },
  {
   "cell_type": "code",
   "execution_count": 1,
   "metadata": {},
   "outputs": [],
   "source": [
    "# Import necessary packages\n",
    "\n",
    "%matplotlib inline\n",
    "%config InlineBackend.figure_format = 'retina'\n",
    "\n",
    "import numpy as np\n",
    "import torch\n",
    "\n",
    "import helper\n",
    "\n",
    "import matplotlib.pyplot as plt"
   ]
  },
  {
   "cell_type": "markdown",
   "metadata": {},
   "source": [
    "\n",
    "Now we're going to build a larger network that can solve a (formerly) difficult problem, identifying text in an image. Here we'll use the MNIST dataset which consists of greyscale handwritten digits. Each image is 28x28 pixels, you can see a sample below\n",
    "\n",
    "<img src='assets/mnist.png'>\n",
    "\n",
    "Our goal is to build a neural network that can take one of these images and predict the digit in the image.\n",
    "\n",
    "First up, we need to get our dataset. This is provided through the `torchvision` package. The code below will download the MNIST dataset, then create training and test datasets for us. Don't worry too much about the details here, you'll learn more about this later."
   ]
  },
  {
   "cell_type": "code",
   "execution_count": 2,
   "metadata": {},
   "outputs": [],
   "source": [
    "# helper code to enable downloading MNIST data\n",
    "from six.moves import urllib\n",
    "\n",
    "opener = urllib.request.build_opener()\n",
    "opener.addheaders = [('User-agent', 'Mozilla/5.0')]\n",
    "urllib.request.install_opener(opener)"
   ]
  },
  {
   "cell_type": "code",
   "execution_count": 3,
   "metadata": {},
   "outputs": [],
   "source": [
    "### Run this cell\n",
    "\n",
    "from torchvision import datasets, transforms\n",
    "\n",
    "# Define a transform to normalize the data\n",
    "transform = transforms.Compose([transforms.ToTensor(),\n",
    "                              transforms.Normalize((0.5,), (0.5,)),\n",
    "                              ])\n",
    "\n",
    "\n",
    "# Download and load the training data\n",
    "trainset = datasets.MNIST('~/.pytorch/MNIST_data/', download=True, train=True, transform=transform)\n",
    "trainloader = torch.utils.data.DataLoader(trainset, batch_size=64, shuffle=True)"
   ]
  },
  {
   "cell_type": "markdown",
   "metadata": {},
   "source": [
    "We have the training data loaded into `trainloader` and we make that an iterator with `iter(trainloader)`. Later, we'll use this to loop through the dataset for training, like\n",
    "\n",
    "```python\n",
    "for image, label in trainloader:\n",
    "    ## do things with images and labels\n",
    "```\n",
    "\n",
    "You'll notice I created the `trainloader` with a batch size of 64, and `shuffle=True`. The batch size is the number of images we get in one iteration from the data loader and pass through our network, often called a *batch*. And `shuffle=True` tells it to shuffle the dataset every time we start going through the data loader again. But here I'm just grabbing the first batch so we can check out the data. We can see below that `images` is just a tensor with size `(64, 1, 28, 28)`. So, 64 images per batch, 1 color channel, and 28x28 images."
   ]
  },
  {
   "cell_type": "code",
   "execution_count": 4,
   "metadata": {},
   "outputs": [
    {
     "name": "stdout",
     "output_type": "stream",
     "text": [
      "<class 'torch.Tensor'>\n",
      "torch.Size([64, 1, 28, 28])\n",
      "torch.Size([64])\n"
     ]
    }
   ],
   "source": [
    "dataiter = iter(trainloader)\n",
    "images, labels = dataiter.next()\n",
    "print(type(images))\n",
    "print(images.shape)\n",
    "print(labels.shape)"
   ]
  },
  {
   "cell_type": "markdown",
   "metadata": {},
   "source": [
    "This is what one of the images looks like. "
   ]
  },
  {
   "cell_type": "code",
   "execution_count": 5,
   "metadata": {},
   "outputs": [
    {
     "data": {
      "image/png": "[encoded data removed]",
      "text/plain": [
       "<Figure size 432x288 with 1 Axes>"
      ]
     },
     "metadata": {
      "image/png": {
       "height": 248,
       "width": 251
      },
      "needs_background": "light"
     },
     "output_type": "display_data"
    }
   ],
   "source": [
    "plt.imshow(images[1].numpy().squeeze(), cmap='Greys_r');"
   ]
  },
  {
   "cell_type": "markdown",
   "metadata": {},
   "source": [
    "First, let's try to build a simple network for this dataset using weight matrices and matrix multiplications. Then, we'll see how to do it using PyTorch's `nn` module which provides a much more convenient and powerful method for defining network architectures.\n",
    "\n",
    "The networks you've seen so far are called *fully-connected* or *dense* networks. Each unit in one layer is connected to each unit in the next layer. In fully-connected networks, the input to each layer must be a one-dimensional vector (which can be stacked into a 2D tensor as a batch of multiple examples). However, our images are 28x28 2D tensors, so we need to convert them into 1D vectors. Thinking about sizes, we need to convert the batch of images with shape `(64, 1, 28, 28)` to a have a shape of `(64, 784)`, 784 is 28 times 28. This is typically called *flattening*, we flattened the 2D images into 1D vectors.\n",
    "\n",
    "Previously you built a network with one output unit. Here we need 10 output units, one for each digit. We want our network to predict the digit shown in an image, so what we'll do is calculate probabilities that the image is of any one digit or class. This ends up being a discrete probability distribution over the classes (digits) that tells us the most likely class for the image. That means we need 10 output units for the 10 classes (digits). We'll see how to convert the network output into a probability distribution next.\n",
    "\n",
    "> **Exercise:** Flatten the batch of images `images`. Then build a multi-layer network with 784 input units, 256 hidden units, and 10 output units using random tensors for the weights and biases. For now, use a sigmoid activation for the hidden layer. Leave the output layer without an activation, we'll add one that gives us a probability distribution next."
   ]
  },
  {
   "cell_type": "code",
   "execution_count": 6,
   "metadata": {},
   "outputs": [
    {
     "name": "stdout",
     "output_type": "stream",
     "text": [
      "tensor([[ 5.1045e-02,  2.8061e-01, -1.2966e-01,  1.0989e-01, -7.3856e-04,\n",
      "         -4.1116e-01, -1.3152e-01,  5.4541e-02,  2.8377e-01,  6.5302e-01],\n",
      "        [ 1.5510e-02,  3.0363e-01, -5.3957e-02,  5.0867e-02,  3.3514e-02,\n",
      "         -3.8776e-01, -2.4955e-01,  1.9827e-01,  2.6761e-01,  7.5519e-01],\n",
      "        [-5.4910e-03,  2.9115e-01, -7.5607e-02,  1.2306e-02, -1.7420e-02,\n",
      "         -3.3050e-01, -2.3349e-01,  1.2325e-01,  2.7265e-01,  6.7278e-01],\n",
      "        [ 7.9934e-02,  2.7363e-01, -1.0754e-01,  7.5787e-02, -5.3109e-03,\n",
      "         -4.2115e-01, -2.4477e-01,  2.4988e-01,  3.1885e-01,  6.8228e-01],\n",
      "        [ 3.6556e-02,  2.8211e-01, -1.0846e-01,  1.0569e-01,  3.2457e-03,\n",
      "         -3.7110e-01, -2.5357e-01,  2.4941e-01,  3.0996e-01,  7.1700e-01],\n",
      "        [ 5.5397e-03,  3.0324e-01, -3.4865e-02,  7.6552e-02,  4.4287e-02,\n",
      "         -3.1724e-01, -1.3849e-01,  1.3995e-01,  2.8298e-01,  7.1046e-01],\n",
      "        [ 9.4707e-02,  2.4327e-01, -6.0854e-02,  4.9230e-02,  2.8740e-02,\n",
      "         -3.5374e-01, -2.9205e-01,  1.9222e-01,  3.0192e-01,  7.2923e-01],\n",
      "        [ 2.4018e-02,  2.8199e-01, -1.0939e-01,  4.9310e-02, -8.7488e-03,\n",
      "         -3.6452e-01, -2.2828e-01,  1.6298e-01,  3.3539e-01,  6.7701e-01],\n",
      "        [-1.3216e-02,  3.5680e-01, -1.1702e-01,  8.8378e-03, -3.8710e-02,\n",
      "         -3.7901e-01, -2.4668e-01,  2.2781e-01,  3.0305e-01,  6.9186e-01],\n",
      "        [-3.4280e-02,  3.6018e-01, -1.6282e-01,  6.4683e-02,  3.6082e-02,\n",
      "         -3.3311e-01, -1.8906e-01,  1.6239e-01,  2.2327e-01,  7.3736e-01],\n",
      "        [ 8.0538e-02,  3.1740e-01, -4.4021e-02,  3.5356e-02,  5.6029e-02,\n",
      "         -3.6033e-01, -2.8086e-01,  1.6893e-01,  3.2849e-01,  6.3493e-01],\n",
      "        [ 1.1208e-01,  2.6964e-01, -1.2335e-01,  1.0444e-01, -5.0537e-03,\n",
      "         -3.9789e-01, -2.1625e-01,  2.4433e-01,  3.3848e-01,  7.2998e-01],\n",
      "        [-3.5562e-02,  3.2135e-01, -7.0167e-02,  1.0690e-01,  9.3030e-02,\n",
      "         -3.4693e-01, -2.3919e-01,  2.4222e-01,  2.2809e-01,  7.3157e-01],\n",
      "        [ 6.4366e-02,  2.7759e-01, -9.6569e-02,  7.9347e-02, -1.8576e-02,\n",
      "         -3.8835e-01, -2.5082e-01,  2.5781e-01,  3.2357e-01,  7.2521e-01],\n",
      "        [ 1.4002e-02,  2.9317e-01, -1.2776e-01,  1.6795e-02, -5.0628e-02,\n",
      "         -4.1064e-01, -1.9613e-01,  1.5602e-01,  2.6296e-01,  7.6020e-01],\n",
      "        [ 6.5184e-02,  2.9661e-01, -8.0183e-02,  6.4213e-02, -3.8329e-02,\n",
      "         -4.1015e-01, -2.2567e-01,  1.1760e-01,  2.4586e-01,  8.1078e-01],\n",
      "        [ 4.4118e-02,  2.9980e-01, -1.1693e-01,  4.9992e-02, -1.2083e-02,\n",
      "         -3.5719e-01, -2.0934e-01,  1.9057e-01,  2.0712e-01,  7.1085e-01],\n",
      "        [ 2.2937e-02,  3.2664e-01, -1.5002e-01,  9.7267e-02, -2.7904e-02,\n",
      "         -3.8485e-01, -1.8213e-01,  1.4805e-01,  2.2614e-01,  7.3761e-01],\n",
      "        [ 4.1822e-02,  3.1693e-01, -1.5610e-01,  7.8253e-02, -3.3077e-02,\n",
      "         -3.4156e-01, -2.5322e-01,  2.2860e-01,  2.7069e-01,  7.4596e-01],\n",
      "        [ 4.1240e-02,  2.1958e-01, -1.1198e-01,  7.4884e-02,  3.0206e-02,\n",
      "         -4.3289e-01, -1.7941e-01,  4.4960e-02,  3.5323e-01,  6.9144e-01],\n",
      "        [ 8.5173e-02,  3.0809e-01, -1.2727e-01,  8.0862e-02, -1.0292e-02,\n",
      "         -3.8685e-01, -2.4368e-01,  2.3753e-01,  3.2156e-01,  7.4693e-01],\n",
      "        [ 3.6339e-02,  2.9230e-01, -6.1894e-02,  4.1821e-02,  1.0497e-03,\n",
      "         -3.4344e-01, -2.5441e-01,  2.4649e-01,  1.8617e-01,  7.3177e-01],\n",
      "        [ 8.0065e-02,  2.6321e-01, -1.0475e-01,  5.7911e-02, -9.6842e-02,\n",
      "         -4.2650e-01, -2.3977e-01,  1.5700e-01,  3.0911e-01,  6.7140e-01],\n",
      "        [ 2.1783e-02,  3.1154e-01, -1.7589e-01,  3.1061e-02,  5.2391e-02,\n",
      "         -3.1926e-01, -1.7151e-01,  1.6248e-01,  2.8429e-01,  6.6546e-01],\n",
      "        [ 5.6177e-02,  3.0298e-01, -1.2371e-01,  7.4306e-02,  1.7005e-02,\n",
      "         -3.6908e-01, -2.5516e-01,  2.3398e-01,  3.0577e-01,  7.2970e-01],\n",
      "        [-1.7270e-03,  2.7688e-01, -1.1449e-01,  4.1690e-02, -2.2331e-03,\n",
      "         -3.5347e-01, -2.9306e-01,  2.1864e-01,  3.1229e-01,  7.7834e-01],\n",
      "        [ 2.9702e-02,  3.2396e-01, -1.5604e-01,  9.5951e-02, -3.5122e-02,\n",
      "         -3.6656e-01, -2.6560e-01,  2.4232e-01,  3.3895e-01,  7.7615e-01],\n",
      "        [ 1.1317e-02,  3.1793e-01, -1.1201e-01,  4.4916e-02,  1.0123e-03,\n",
      "         -3.1102e-01, -1.9091e-01,  1.9737e-01,  2.7272e-01,  7.2079e-01],\n",
      "        [-2.9390e-04,  2.9495e-01, -6.7574e-02,  1.0529e-01, -3.3459e-02,\n",
      "         -3.4840e-01, -2.0629e-01,  4.1779e-02,  2.5344e-01,  6.7829e-01],\n",
      "        [ 9.9547e-02,  2.5295e-01, -5.8645e-02,  1.1721e-01, -2.0132e-02,\n",
      "         -4.3261e-01, -1.6319e-01,  7.7742e-02,  3.0522e-01,  6.8477e-01],\n",
      "        [ 1.0865e-02,  3.0395e-01, -1.0518e-01,  3.9090e-02, -3.5663e-02,\n",
      "         -3.1168e-01, -2.4554e-01,  1.3718e-01,  3.2131e-01,  6.3030e-01],\n",
      "        [ 4.9595e-02,  2.5958e-01, -8.5540e-02,  1.2569e-01, -1.4573e-02,\n",
      "         -3.2459e-01, -1.5839e-01,  2.2070e-01,  3.1112e-01,  7.6915e-01],\n",
      "        [ 2.9809e-02,  2.7506e-01, -1.6147e-02,  1.1680e-01,  2.5737e-02,\n",
      "         -3.3944e-01, -2.3241e-01,  2.3062e-01,  3.0037e-01,  7.0738e-01],\n",
      "        [-4.0459e-02,  2.7224e-01, -3.5491e-02,  3.9434e-02,  1.5514e-02,\n",
      "         -4.0865e-01, -2.4311e-01,  1.6033e-01,  2.6217e-01,  7.0078e-01],\n",
      "        [ 2.3094e-02,  3.2619e-01, -1.3880e-01,  4.2102e-02,  6.2786e-04,\n",
      "         -3.4842e-01, -2.0742e-01,  2.3351e-01,  2.9602e-01,  6.5953e-01],\n",
      "        [ 6.6441e-02,  3.1666e-01, -7.3985e-02,  1.4034e-01,  5.2506e-02,\n",
      "         -3.6571e-01, -2.4513e-01,  2.2269e-01,  3.4979e-01,  6.9210e-01],\n",
      "        [-4.2783e-02,  2.3931e-01, -9.1348e-02,  1.0069e-01,  6.0268e-02,\n",
      "         -3.6287e-01, -1.8563e-01,  1.2581e-01,  2.8945e-01,  6.5322e-01],\n",
      "        [ 8.1882e-02,  3.0482e-01, -1.3727e-01,  1.0242e-01, -6.5535e-03,\n",
      "         -3.7258e-01, -2.7848e-01,  2.3112e-01,  2.9639e-01,  7.5072e-01],\n",
      "        [ 5.0790e-02,  2.8098e-01, -8.5064e-02,  6.8555e-02,  9.3181e-03,\n",
      "         -3.1883e-01, -2.4923e-01,  1.7546e-01,  3.0442e-01,  7.0376e-01],\n",
      "        [ 3.9985e-02,  3.1823e-01, -1.0503e-01,  7.7107e-02, -3.0033e-02,\n",
      "         -3.9443e-01, -2.8765e-01,  1.6118e-01,  3.2205e-01,  7.0556e-01],\n",
      "        [ 7.7767e-02,  2.3331e-01, -6.6328e-02,  1.4205e-01, -1.5889e-02,\n",
      "         -4.0914e-01, -1.6097e-01,  1.4580e-01,  3.4978e-01,  7.9356e-01],\n",
      "        [ 5.2394e-02,  3.4286e-01, -6.6110e-02,  1.5311e-01, -6.1636e-03,\n",
      "         -3.4026e-01, -1.3962e-01,  1.3402e-01,  2.7624e-01,  7.1805e-01],\n",
      "        [ 1.1879e-01,  2.8955e-01, -1.0461e-01,  1.1026e-01, -1.3744e-02,\n",
      "         -3.9260e-01, -2.3684e-01,  2.4228e-01,  2.7714e-01,  7.2214e-01],\n",
      "        [-2.9316e-02,  2.4767e-01, -4.2030e-02,  8.3578e-02, -2.1097e-02,\n",
      "         -4.1180e-01, -8.8336e-02, -5.0592e-03,  2.8644e-01,  6.1649e-01],\n",
      "        [ 8.6254e-02,  2.6799e-01, -6.6944e-02,  8.4450e-02,  3.3720e-02,\n",
      "         -4.0618e-01, -2.4126e-01,  1.2481e-01,  2.7646e-01,  8.0330e-01],\n",
      "        [-2.6232e-02,  2.5997e-01, -4.2715e-02,  1.0107e-01,  3.0892e-02,\n",
      "         -3.6903e-01, -1.9008e-01,  1.8196e-01,  2.4338e-01,  7.0626e-01],\n",
      "        [ 7.1773e-02,  3.1703e-01, -1.3210e-01,  5.3773e-02, -4.6034e-02,\n",
      "         -3.7930e-01, -2.0382e-01,  2.1792e-01,  3.1830e-01,  7.0974e-01],\n",
      "        [ 4.3308e-02,  2.6509e-01, -3.0094e-02,  6.9619e-02,  2.1341e-02,\n",
      "         -3.8908e-01, -2.4905e-01,  1.8142e-01,  2.6268e-01,  6.8397e-01],\n",
      "        [-3.4020e-02,  2.6417e-01, -9.7856e-02,  9.1049e-02,  4.9053e-02,\n",
      "         -3.9039e-01, -2.6618e-01,  1.3929e-01,  2.8352e-01,  6.5141e-01],\n",
      "        [ 7.3456e-02,  2.9877e-01, -1.0477e-01,  7.9362e-02, -6.2316e-02,\n",
      "         -3.1858e-01, -2.2702e-01,  2.2258e-01,  2.7144e-01,  7.3957e-01],\n",
      "        [ 4.4178e-02,  2.6632e-01, -1.8582e-01, -5.2065e-03,  2.7152e-02,\n",
      "         -3.3432e-01, -1.4964e-01,  5.6145e-02,  3.0649e-01,  6.6268e-01],\n",
      "        [ 1.6088e-03,  3.0599e-01, -7.9012e-02,  1.0404e-01,  2.1730e-02,\n",
      "         -3.4729e-01, -1.9577e-01,  1.6061e-01,  2.5813e-01,  6.8564e-01],\n",
      "        [-3.5776e-03,  3.3663e-01, -1.1400e-01,  4.3153e-02, -2.0544e-02,\n",
      "         -3.3824e-01, -2.3256e-01,  1.5477e-01,  2.6785e-01,  7.5682e-01],\n",
      "        [ 7.2227e-02,  2.7609e-01, -1.1984e-01,  2.1907e-02,  2.8882e-02,\n",
      "         -3.6018e-01, -1.2069e-01,  4.5854e-02,  2.6605e-01,  7.0406e-01],\n",
      "        [ 6.9579e-02,  2.7242e-01, -5.1516e-02,  7.3803e-02, -2.0213e-02,\n",
      "         -3.7757e-01, -3.1336e-01,  2.1558e-01,  2.6768e-01,  7.5113e-01],\n",
      "        [ 4.6858e-02,  2.8646e-01, -1.2862e-01,  4.7195e-02,  3.6245e-02,\n",
      "         -3.9007e-01, -2.0974e-01,  1.7682e-01,  2.8963e-01,  6.2816e-01],\n",
      "        [ 8.5746e-02,  3.0136e-01, -6.3108e-02,  8.0057e-02, -4.2448e-02,\n",
      "         -3.7240e-01, -1.7497e-01,  1.8729e-01,  2.9938e-01,  7.0484e-01],\n",
      "        [ 5.1134e-02,  3.4234e-01, -1.4054e-01,  7.1186e-02, -3.0862e-02,\n",
      "         -3.3079e-01, -2.6473e-01,  2.4750e-01,  2.5863e-01,  7.8821e-01],\n",
      "        [ 8.8099e-02,  3.0461e-01, -8.1027e-02,  3.4312e-02, -1.1688e-02,\n",
      "         -3.3541e-01, -2.3846e-01,  1.7632e-01,  3.1660e-01,  6.7380e-01],\n",
      "        [ 1.9121e-02,  2.9172e-01, -6.6879e-02,  7.6245e-02, -3.5933e-02,\n",
      "         -3.5095e-01, -1.6085e-01,  1.3589e-01,  3.0954e-01,  6.4880e-01],\n",
      "        [-9.1691e-03,  3.6008e-01, -1.6966e-01,  6.4506e-03, -4.6445e-02,\n",
      "         -2.7207e-01, -1.5928e-01,  1.9201e-01,  2.8091e-01,  6.8021e-01],\n",
      "        [ 6.8337e-02,  3.1425e-01, -1.0871e-01,  7.3413e-02, -8.5569e-03,\n",
      "         -3.8914e-01, -2.4532e-01,  2.4667e-01,  3.4296e-01,  6.7808e-01],\n",
      "        [ 5.7348e-02,  2.9422e-01, -1.5764e-01,  1.1636e-01,  5.2292e-03,\n",
      "         -3.7457e-01, -3.1087e-01,  2.1646e-01,  3.3680e-01,  7.5080e-01],\n",
      "        [ 5.5466e-03,  2.8493e-01, -9.0252e-02,  4.3381e-02,  4.1913e-02,\n",
      "         -4.0206e-01, -2.3225e-01,  1.5156e-01,  2.6184e-01,  7.0181e-01]],\n",
      "       grad_fn=<AddmmBackward>)\n"
     ]
    }
   ],
   "source": [
    "## Your solutionn\n",
    "from torch import nn\n",
    "\n",
    "# defining a neural network by subclassing nn.Module\n",
    "class NeuralNetwork(nn.Module):\n",
    "    def __init__(self):\n",
    "        super(NeuralNetwork, self).__init__()\n",
    "        self.flatten = nn.Flatten()\n",
    "        self.linear_sigmoid = nn.Sequential(\n",
    "            # inputting 784 inputs, outputting 256 to hidden layer\n",
    "            nn.Linear(28*28, 256, bias=True),\n",
    "            # activation function of sigmoid\n",
    "            nn.Sigmoid(),\n",
    "            nn.Linear(256, 10, bias=True),\n",
    "        )\n",
    "        \n",
    "    # every nn.Module subclass implements operations on input in the forward method\n",
    "    def forward(self, x):\n",
    "        # flatten the images from 2D tensors to 1D vectors\n",
    "        x = self.flatten(x)\n",
    "        probs = self.linear_sigmoid(x)\n",
    "        return probs\n",
    "\n",
    "model = NeuralNetwork()\n",
    "out = model(images) # output of your network, should have shape (64,10)\n",
    "\n",
    "# check that the output of the network is (64, 10)\n",
    "out.shape\n",
    "# check output\n",
    "print(out)"
   ]
  },
  {
   "cell_type": "code",
   "execution_count": 7,
   "metadata": {},
   "outputs": [
    {
     "name": "stdout",
     "output_type": "stream",
     "text": [
      "torch.Size([64, 10])\n"
     ]
    }
   ],
   "source": [
    "# barebone solution\n",
    "\n",
    "def activation(x):\n",
    "    return 1 / (1 + torch.exp(x))\n",
    "\n",
    "# flatten the input image\n",
    "inputs = images.view(images.shape[0], -1)\n",
    "\n",
    "# creating the layers\n",
    "input_layer = torch.randn(28*28, 256)\n",
    "input_bias = torch.randn(256)\n",
    "\n",
    "hidden_layer = torch.randn(256, 10)\n",
    "hidden_bias = torch.randn(10)\n",
    "\n",
    "hidden_activation = activation(torch.mm(inputs, input_layer) + input_bias)\n",
    "\n",
    "out = torch.mm(hidden_activation, hidden_layer) + hidden_bias\n",
    "\n",
    "print(out.shape) # should be shape of (64, 10)"
   ]
  },
  {
   "cell_type": "markdown",
   "metadata": {},
   "source": [
    "Now we have 10 outputs for our network. We want to pass in an image to our network and get out a probability distribution over the classes that tells us the likely class(es) the image belongs to. Something that looks like this:\n",
    "<img src='assets/image_distribution.png' width=500px>\n",
    "\n",
    "Here we see that the probability for each class is roughly the same. This is representing an untrained network, it hasn't seen any data yet so it just returns a uniform distribution with equal probabilities for each class.\n",
    "\n",
    "To calculate this probability distribution, we often use the [**softmax** function](https://en.wikipedia.org/wiki/Softmax_function). Mathematically this looks like\n",
    "\n",
    "$$\n",
    "\\Large \\sigma(x_i) = \\cfrac{e^{x_i}}{\\sum_k^K{e^{x_k}}}\n",
    "$$\n",
    "\n",
    "What this does is squish each input $x_i$ between 0 and 1 and normalizes the values to give you a proper probability distribution where the probabilites sum up to one.\n",
    "\n",
    "> **Exercise:** Implement a function `softmax` that performs the softmax calculation and returns probability distributions for each example in the batch. Note that you'll need to pay attention to the shapes when doing this. If you have a tensor `a` with shape `(64, 10)` and a tensor `b` with shape `(64,)`, doing `a/b` will give you an error because PyTorch will try to do the division across the columns (called broadcasting) but you'll get a size mismatch. The way to think about this is for each of the 64 examples, you only want to divide by one value, the sum in the denominator. So you need `b` to have a shape of `(64, 1)`. This way PyTorch will divide the 10 values in each row of `a` by the one value in each row of `b`. Pay attention to how you take the sum as well. You'll need to define the `dim` keyword in `torch.sum`. Setting `dim=0` takes the sum across the rows while `dim=1` takes the sum across the columns."
   ]
  },
  {
   "cell_type": "code",
   "execution_count": 8,
   "metadata": {},
   "outputs": [
    {
     "name": "stdout",
     "output_type": "stream",
     "text": [
      "torch.Size([64, 10])\n",
      "tensor([1.0000, 1.0000, 1.0000, 1.0000, 1.0000, 1.0000, 1.0000, 1.0000, 1.0000,\n",
      "        1.0000, 1.0000, 1.0000, 1.0000, 1.0000, 1.0000, 1.0000, 1.0000, 1.0000,\n",
      "        1.0000, 1.0000, 1.0000, 1.0000, 1.0000, 1.0000, 1.0000, 1.0000, 1.0000,\n",
      "        1.0000, 1.0000, 1.0000, 1.0000, 1.0000, 1.0000, 1.0000, 1.0000, 1.0000,\n",
      "        1.0000, 1.0000, 1.0000, 1.0000, 1.0000, 1.0000, 1.0000, 1.0000, 1.0000,\n",
      "        1.0000, 1.0000, 1.0000, 1.0000, 1.0000, 1.0000, 1.0000, 1.0000, 1.0000,\n",
      "        1.0000, 1.0000, 1.0000, 1.0000, 1.0000, 1.0000, 1.0000, 1.0000, 1.0000,\n",
      "        1.0000])\n"
     ]
    }
   ],
   "source": [
    "def softmax(x):\n",
    "    ## TODO: Implement the softmax function here\n",
    "    # .view(-1, 1) -> -1 == actual shape will be inferred, in this case 64\n",
    "    return torch.exp(x) / torch.sum(torch.exp(x), dim=1).view(-1, 1)\n",
    "\n",
    "# Here, out should be the output of the network in the previous excercise with shape (64,10)\n",
    "probabilities = softmax(out)\n",
    "\n",
    "# Does it have the right shape? Should be (64, 10)\n",
    "print(probabilities.shape)\n",
    "# Does it sum to 1?\n",
    "print(probabilities.sum(dim=1))"
   ]
  },
  {
   "cell_type": "markdown",
   "metadata": {},
   "source": [
    "## Building networks with PyTorch\n",
    "\n",
    "PyTorch provides a module `nn` that makes building networks much simpler. Here I'll show you how to build the same one as above with 784 inputs, 256 hidden units, 10 output units and a softmax output."
   ]
  },
  {
   "cell_type": "code",
   "execution_count": 10,
   "metadata": {},
   "outputs": [],
   "source": [
    "class Network(nn.Module):\n",
    "    def __init__(self):\n",
    "        # register all the different layers and ops from nn.Module\n",
    "        super().__init__()\n",
    "        \n",
    "        # Inputs to hidden layer linear transformation\n",
    "        self.hidden = nn.Linear(784, 256)\n",
    "        # Output layer, 10 units - one for each digit\n",
    "        self.output = nn.Linear(256, 10)\n",
    "        \n",
    "        # Define sigmoid activation and softmax output \n",
    "        self.sigmoid = nn.Sigmoid()\n",
    "        self.softmax = nn.Softmax(dim=1)\n",
    "        \n",
    "    def forward(self, x):\n",
    "        # Pass the input tensor through each of our operations\n",
    "        x = self.hidden(x)\n",
    "        x = self.sigmoid(x)\n",
    "        x = self.output(x)\n",
    "        x = self.softmax(x)\n",
    "        \n",
    "        return x"
   ]
  },
  {
   "cell_type": "markdown",
   "metadata": {},
   "source": [
    "Let's go through this bit by bit.\n",
    "\n",
    "```python\n",
    "class Network(nn.Module):\n",
    "```\n",
    "\n",
    "Here we're inheriting from `nn.Module`. Combined with `super().__init__()` this creates a class that tracks the architecture and provides a lot of useful methods and attributes. It is mandatory to inherit from `nn.Module` when you're creating a class for your network. The name of the class itself can be anything.\n",
    "\n",
    "```python\n",
    "self.hidden = nn.Linear(784, 256)\n",
    "```\n",
    "\n",
    "This line creates a module for a linear transformation, $x\\mathbf{W} + b$, with 784 inputs and 256 outputs and assigns it to `self.hidden`. The module automatically creates the weight and bias tensors which we'll use in the `forward` method. You can access the weight and bias tensors once the network (`net`) is created with `net.hidden.weight` and `net.hidden.bias`.\n",
    "\n",
    "```python\n",
    "self.output = nn.Linear(256, 10)\n",
    "```\n",
    "\n",
    "Similarly, this creates another linear transformation with 256 inputs and 10 outputs.\n",
    "\n",
    "```python\n",
    "self.sigmoid = nn.Sigmoid()\n",
    "self.softmax = nn.Softmax(dim=1)\n",
    "```\n",
    "\n",
    "Here I defined operations for the sigmoid activation and softmax output. Setting `dim=1` in `nn.Softmax(dim=1)` calculates softmax across the columns.\n",
    "\n",
    "```python\n",
    "def forward(self, x):\n",
    "```\n",
    "\n",
    "PyTorch networks created with `nn.Module` must have a `forward` method defined. It takes in a tensor `x` and passes it through the operations you defined in the `__init__` method.\n",
    "\n",
    "```python\n",
    "x = self.hidden(x)\n",
    "x = self.sigmoid(x)\n",
    "x = self.output(x)\n",
    "x = self.softmax(x)\n",
    "```\n",
    "\n",
    "Here the input tensor `x` is passed through each operation and reassigned to `x`. We can see that the input tensor goes through the hidden layer, then a sigmoid function, then the output layer, and finally the softmax function. It doesn't matter what you name the variables here, as long as the inputs and outputs of the operations match the network architecture you want to build. The order in which you define things in the `__init__` method doesn't matter, but you'll need to sequence the operations correctly in the `forward` method.\n",
    "\n",
    "Now we can create a `Network` object."
   ]
  },
  {
   "cell_type": "code",
   "execution_count": 11,
   "metadata": {},
   "outputs": [
    {
     "data": {
      "text/plain": [
       "Network(\n",
       "  (hidden): Linear(in_features=784, out_features=256, bias=True)\n",
       "  (output): Linear(in_features=256, out_features=10, bias=True)\n",
       "  (sigmoid): Sigmoid()\n",
       "  (softmax): Softmax(dim=1)\n",
       ")"
      ]
     },
     "execution_count": 11,
     "metadata": {},
     "output_type": "execute_result"
    }
   ],
   "source": [
    "# Create the network and look at its text representation\n",
    "model = Network()\n",
    "model"
   ]
  },
  {
   "cell_type": "markdown",
   "metadata": {},
   "source": [
    "You can define the network somewhat more concisely and clearly using the `torch.nn.functional` module. This is the most common way you'll see networks defined as many operations are simple element-wise functions. We normally import this module as `F`, `import torch.nn.functional as F`."
   ]
  },
  {
   "cell_type": "code",
   "execution_count": 12,
   "metadata": {},
   "outputs": [],
   "source": [
    "import torch.nn.functional as F\n",
    "\n",
    "class Network(nn.Module):\n",
    "    def __init__(self):\n",
    "        super().__init__()\n",
    "        # Inputs to hidden layer linear transformation\n",
    "        self.hidden = nn.Linear(784, 256)\n",
    "        # Output layer, 10 units - one for each digit\n",
    "        self.output = nn.Linear(256, 10)\n",
    "        \n",
    "    def forward(self, x):\n",
    "        # Hidden layer with sigmoid activation\n",
    "        x = F.sigmoid(self.hidden(x))\n",
    "        # Output layer with softmax activation\n",
    "        x = F.softmax(self.output(x), dim=1)\n",
    "        \n",
    "        return x"
   ]
  },
  {
   "cell_type": "markdown",
   "metadata": {},
   "source": [
    "### Activation functions\n",
    "\n",
    "So far we've only been looking at the sigmoid activation function, but in general any function can be used as an activation function. The only requirement is that for a network to approximate a non-linear function, the activation functions must be non-linear. Here are a few more examples of common activation functions: Tanh (hyperbolic tangent), and ReLU (rectified linear unit).\n",
    "\n",
    "<img src=\"assets/activation.png\" width=700px>\n",
    "\n",
    "In practice, the ReLU function is used almost exclusively as the activation function for hidden layers."
   ]
  },
  {
   "cell_type": "markdown",
   "metadata": {},
   "source": [
    "### Your Turn to Build a Network\n",
    "\n",
    "<img src=\"assets/mlp_mnist.png\" width=600px>\n",
    "\n",
    "> **Exercise:** Create a network with 784 input units, a hidden layer with 128 units and a ReLU activation, then a hidden layer with 64 units and a ReLU activation, and finally an output layer with a softmax activation as shown above. You can use a ReLU activation with the `nn.ReLU` module or `F.relu` function.\n",
    "\n",
    "It's good practice to name your layers by their type of network, for instance 'fc' to represent a fully-connected layer. As you code your solution, use `fc1`, `fc2`, and `fc3` as your layer names."
   ]
  },
  {
   "cell_type": "code",
   "execution_count": null,
   "metadata": {},
   "outputs": [],
   "source": []
  },
  {
   "cell_type": "code",
   "execution_count": 42,
   "metadata": {
    "scrolled": true
   },
   "outputs": [],
   "source": [
    "## Your solution here\n",
    "import torch.nn.functional as F\n",
    "\n",
    "class NeuralNetwork(nn.Module):\n",
    "    def __init__(self):\n",
    "        super(NeuralNetwork, self).__init__()\n",
    "        # input layer - fc1\n",
    "        self.fc1 = nn.Linear(784, 128)\n",
    "        # hidden layer 1 - fc2\n",
    "        self.fc2 = nn.Linear(128, 64)\n",
    "        # hidden layer 2 - fc3\n",
    "        self.fc3 = nn.Linear(64, 10)\n",
    "        \n",
    "        \n",
    "    def forward(self, x):\n",
    "        x = self.fc1(x)\n",
    "        x = F.relu(x)\n",
    "        x = self.fc2(x)\n",
    "        x = F.relu(x)\n",
    "        x = self.fc3(x)\n",
    "        x = F.softmax(x, dim=1)\n",
    "        \n",
    "        return x\n",
    "    \n",
    "model = NeuralNetwork()"
   ]
  },
  {
   "cell_type": "markdown",
   "metadata": {},
   "source": [
    "### Initializing weights and biases\n",
    "\n",
    "The weights and such are automatically initialized for you, but it's possible to customize how they are initialized. The weights and biases are tensors attached to the layer you defined, you can get them with `model.fc1.weight` for instance."
   ]
  },
  {
   "cell_type": "code",
   "execution_count": 43,
   "metadata": {},
   "outputs": [
    {
     "name": "stdout",
     "output_type": "stream",
     "text": [
      "Parameter containing:\n",
      "tensor([[ 0.0292, -0.0304, -0.0088,  ...,  0.0028, -0.0112,  0.0006],\n",
      "        [ 0.0174, -0.0111,  0.0162,  ..., -0.0250,  0.0045,  0.0059],\n",
      "        [ 0.0010,  0.0060,  0.0015,  ...,  0.0291, -0.0336,  0.0211],\n",
      "        ...,\n",
      "        [-0.0048, -0.0118, -0.0242,  ..., -0.0136, -0.0170,  0.0132],\n",
      "        [-0.0014,  0.0323,  0.0238,  ..., -0.0280, -0.0140,  0.0066],\n",
      "        [-0.0161,  0.0109, -0.0140,  ...,  0.0176,  0.0237, -0.0313]],\n",
      "       requires_grad=True)\n",
      "Parameter containing:\n",
      "tensor([ 0.0302, -0.0028, -0.0090,  0.0074, -0.0108, -0.0272,  0.0003, -0.0245,\n",
      "         0.0180, -0.0204,  0.0281, -0.0033,  0.0036,  0.0291,  0.0225, -0.0123,\n",
      "        -0.0266,  0.0329, -0.0069, -0.0220,  0.0096, -0.0042, -0.0101, -0.0012,\n",
      "        -0.0127, -0.0153,  0.0306,  0.0191, -0.0165,  0.0284,  0.0081, -0.0285,\n",
      "         0.0133, -0.0323, -0.0175, -0.0195, -0.0232, -0.0196, -0.0353,  0.0264,\n",
      "         0.0200,  0.0140,  0.0009,  0.0058,  0.0317, -0.0058, -0.0210,  0.0244,\n",
      "        -0.0194,  0.0315,  0.0039,  0.0356, -0.0282, -0.0209, -0.0034, -0.0164,\n",
      "         0.0083,  0.0100,  0.0086,  0.0130, -0.0290, -0.0056,  0.0084, -0.0293,\n",
      "        -0.0190,  0.0115,  0.0133, -0.0331,  0.0147,  0.0151, -0.0010,  0.0191,\n",
      "        -0.0114, -0.0116,  0.0077,  0.0225, -0.0047,  0.0287,  0.0148, -0.0149,\n",
      "        -0.0237, -0.0136,  0.0027, -0.0197, -0.0195, -0.0146, -0.0106, -0.0013,\n",
      "         0.0090, -0.0044,  0.0096,  0.0064,  0.0253, -0.0175,  0.0332, -0.0220,\n",
      "         0.0229,  0.0273,  0.0031, -0.0261,  0.0353,  0.0260, -0.0019,  0.0016,\n",
      "         0.0016, -0.0153, -0.0274, -0.0020, -0.0259, -0.0204,  0.0220,  0.0109,\n",
      "        -0.0180,  0.0169, -0.0197, -0.0205,  0.0344, -0.0076,  0.0200, -0.0087,\n",
      "         0.0074, -0.0311,  0.0302, -0.0247, -0.0301,  0.0223,  0.0162,  0.0055],\n",
      "       requires_grad=True)\n"
     ]
    }
   ],
   "source": [
    "print(model.fc1.weight)\n",
    "print(model.fc1.bias)"
   ]
  },
  {
   "cell_type": "markdown",
   "metadata": {},
   "source": [
    "For custom initialization, we want to modify these tensors in place. These are actually autograd *Variables*, so we need to get back the actual tensors with `model.fc1.weight.data`. Once we have the tensors, we can fill them with zeros (for biases) or random normal values."
   ]
  },
  {
   "cell_type": "code",
   "execution_count": 44,
   "metadata": {},
   "outputs": [
    {
     "data": {
      "text/plain": [
       "tensor([0., 0., 0., 0., 0., 0., 0., 0., 0., 0., 0., 0., 0., 0., 0., 0., 0., 0., 0., 0., 0., 0., 0., 0.,\n",
       "        0., 0., 0., 0., 0., 0., 0., 0., 0., 0., 0., 0., 0., 0., 0., 0., 0., 0., 0., 0., 0., 0., 0., 0.,\n",
       "        0., 0., 0., 0., 0., 0., 0., 0., 0., 0., 0., 0., 0., 0., 0., 0., 0., 0., 0., 0., 0., 0., 0., 0.,\n",
       "        0., 0., 0., 0., 0., 0., 0., 0., 0., 0., 0., 0., 0., 0., 0., 0., 0., 0., 0., 0., 0., 0., 0., 0.,\n",
       "        0., 0., 0., 0., 0., 0., 0., 0., 0., 0., 0., 0., 0., 0., 0., 0., 0., 0., 0., 0., 0., 0., 0., 0.,\n",
       "        0., 0., 0., 0., 0., 0., 0., 0.])"
      ]
     },
     "execution_count": 44,
     "metadata": {},
     "output_type": "execute_result"
    }
   ],
   "source": [
    "# Set biases to all zeros\n",
    "model.fc1.bias.data.fill_(0)"
   ]
  },
  {
   "cell_type": "code",
   "execution_count": 45,
   "metadata": {},
   "outputs": [
    {
     "data": {
      "text/plain": [
       "tensor([[-1.7070e-02,  1.4536e-02, -7.1309e-04,  ..., -1.1622e-02,\n",
       "          7.5898e-03, -1.6694e-02],\n",
       "        [-1.2747e-02, -1.1183e-02,  2.1300e-05,  ...,  2.0992e-02,\n",
       "         -1.1804e-02, -6.3947e-03],\n",
       "        [ 4.4984e-03,  6.5938e-04, -2.4408e-03,  ...,  3.0161e-02,\n",
       "          3.1125e-03,  6.7327e-03],\n",
       "        ...,\n",
       "        [ 6.7509e-03,  2.5267e-03, -1.8753e-02,  ..., -4.6024e-03,\n",
       "         -1.8478e-02, -1.2475e-02],\n",
       "        [ 6.6264e-03, -4.4359e-03, -1.2460e-02,  ...,  1.0386e-02,\n",
       "         -8.3435e-03, -2.1553e-03],\n",
       "        [-6.9618e-04, -9.6237e-03, -6.5673e-03,  ...,  6.6654e-03,\n",
       "         -1.0773e-02,  2.2678e-03]])"
      ]
     },
     "execution_count": 45,
     "metadata": {},
     "output_type": "execute_result"
    }
   ],
   "source": [
    "# sample from random normal with standard dev = 0.01\n",
    "model.fc1.weight.data.normal_(std=0.01)"
   ]
  },
  {
   "cell_type": "markdown",
   "metadata": {},
   "source": [
    "### Forward pass\n",
    "\n",
    "Now that we have a network, let's see what happens when we pass in an image."
   ]
  },
  {
   "cell_type": "code",
   "execution_count": 46,
   "metadata": {},
   "outputs": [
    {
     "data": {
      "image/png": "[encoded data removed]",
      "text/plain": [
       "<Figure size 432x648 with 2 Axes>"
      ]
     },
     "metadata": {
      "image/png": {
       "height": 235,
       "width": 424
      },
      "needs_background": "light"
     },
     "output_type": "display_data"
    }
   ],
   "source": [
    "# Grab some data \n",
    "dataiter = iter(trainloader)\n",
    "images, labels = dataiter.next()\n",
    "\n",
    "# Resize images into a 1D vector, new shape is (batch size, color channels, image pixels) \n",
    "images.resize_(64, 1, 784)\n",
    "# or images.resize_(images.shape[0], 1, 784) to automatically get batch size\n",
    "\n",
    "# Forward pass through the network\n",
    "img_idx = 0\n",
    "ps = model.forward(images[img_idx,:])\n",
    "\n",
    "img = images[img_idx]\n",
    "helper.view_classify(img.view(1, 28, 28), ps)"
   ]
  },
  {
   "cell_type": "markdown",
   "metadata": {},
   "source": [
    "As you can see above, our network has basically no idea what this digit is. It's because we haven't trained it yet, all the weights are random!\n",
    "\n",
    "### Using `nn.Sequential`\n",
    "\n",
    "PyTorch provides a convenient way to build networks like this where a tensor is passed sequentially through operations, `nn.Sequential` ([documentation](https://pytorch.org/docs/master/nn.html#torch.nn.Sequential)). Using this to build the equivalent network:"
   ]
  },
  {
   "cell_type": "code",
   "execution_count": 47,
   "metadata": {},
   "outputs": [
    {
     "name": "stdout",
     "output_type": "stream",
     "text": [
      "Sequential(\n",
      "  (0): Linear(in_features=784, out_features=128, bias=True)\n",
      "  (1): ReLU()\n",
      "  (2): Linear(in_features=128, out_features=64, bias=True)\n",
      "  (3): ReLU()\n",
      "  (4): Linear(in_features=64, out_features=10, bias=True)\n",
      "  (5): Softmax(dim=1)\n",
      ")\n"
     ]
    },
    {
     "data": {
      "image/png": "[encoded data removed]",
      "text/plain": [
       "<Figure size 432x648 with 2 Axes>"
      ]
     },
     "metadata": {
      "image/png": {
       "height": 235,
       "width": 424
      },
      "needs_background": "light"
     },
     "output_type": "display_data"
    }
   ],
   "source": [
    "# Hyperparameters for our network\n",
    "input_size = 784\n",
    "hidden_sizes = [128, 64]\n",
    "output_size = 10\n",
    "\n",
    "# Build a feed-forward network\n",
    "model = nn.Sequential(nn.Linear(input_size, hidden_sizes[0]),\n",
    "                      nn.ReLU(),\n",
    "                      nn.Linear(hidden_sizes[0], hidden_sizes[1]),\n",
    "                      nn.ReLU(),\n",
    "                      nn.Linear(hidden_sizes[1], output_size),\n",
    "                      nn.Softmax(dim=1))\n",
    "print(model)\n",
    "\n",
    "# Forward pass through the network and display output\n",
    "images, labels = next(iter(trainloader))\n",
    "images.resize_(images.shape[0], 1, 784)\n",
    "ps = model.forward(images[0,:])\n",
    "helper.view_classify(images[0].view(1, 28, 28), ps)"
   ]
  },
  {
   "cell_type": "markdown",
   "metadata": {},
   "source": [
    "Here our model is the same as before: 784 input units, a hidden layer with 128 units, ReLU activation, 64 unit hidden layer, another ReLU, then the output layer with 10 units, and the softmax output.\n",
    "\n",
    "The operations are available by passing in the appropriate index. For example, if you want to get first Linear operation and look at the weights, you'd use `model[0]`."
   ]
  },
  {
   "cell_type": "code",
   "execution_count": 48,
   "metadata": {},
   "outputs": [
    {
     "name": "stdout",
     "output_type": "stream",
     "text": [
      "Linear(in_features=784, out_features=128, bias=True)\n"
     ]
    },
    {
     "data": {
      "text/plain": [
       "Parameter containing:\n",
       "tensor([[ 0.0005,  0.0021,  0.0067,  ..., -0.0241,  0.0085, -0.0251],\n",
       "        [-0.0190, -0.0203,  0.0018,  ..., -0.0316,  0.0025, -0.0266],\n",
       "        [ 0.0158,  0.0226,  0.0320,  ...,  0.0111,  0.0246, -0.0064],\n",
       "        ...,\n",
       "        [-0.0288, -0.0015,  0.0237,  ...,  0.0001,  0.0153, -0.0265],\n",
       "        [ 0.0239, -0.0155,  0.0018,  ...,  0.0341,  0.0265, -0.0079],\n",
       "        [ 0.0057,  0.0328, -0.0054,  ..., -0.0278,  0.0137,  0.0240]],\n",
       "       requires_grad=True)"
      ]
     },
     "execution_count": 48,
     "metadata": {},
     "output_type": "execute_result"
    }
   ],
   "source": [
    "print(model[0])\n",
    "model[0].weight"
   ]
  },
  {
   "cell_type": "markdown",
   "metadata": {},
   "source": [
    "You can also pass in an `OrderedDict` to name the individual layers and operations, instead of using incremental integers. Note that dictionary keys must be unique, so _each operation must have a different name_."
   ]
  },
  {
   "cell_type": "code",
   "execution_count": 49,
   "metadata": {},
   "outputs": [
    {
     "data": {
      "text/plain": [
       "Sequential(\n",
       "  (fc1): Linear(in_features=784, out_features=128, bias=True)\n",
       "  (relu1): ReLU()\n",
       "  (fc2): Linear(in_features=128, out_features=64, bias=True)\n",
       "  (relu2): ReLU()\n",
       "  (output): Linear(in_features=64, out_features=10, bias=True)\n",
       "  (softmax): Softmax(dim=1)\n",
       ")"
      ]
     },
     "execution_count": 49,
     "metadata": {},
     "output_type": "execute_result"
    }
   ],
   "source": [
    "from collections import OrderedDict\n",
    "model = nn.Sequential(OrderedDict([\n",
    "                      ('fc1', nn.Linear(input_size, hidden_sizes[0])),\n",
    "                      ('relu1', nn.ReLU()),\n",
    "                      ('fc2', nn.Linear(hidden_sizes[0], hidden_sizes[1])),\n",
    "                      ('relu2', nn.ReLU()),\n",
    "                      ('output', nn.Linear(hidden_sizes[1], output_size)),\n",
    "                      ('softmax', nn.Softmax(dim=1))]))\n",
    "model"
   ]
  },
  {
   "cell_type": "markdown",
   "metadata": {},
   "source": [
    "Now you can access layers either by integer or the name"
   ]
  },
  {
   "cell_type": "code",
   "execution_count": 50,
   "metadata": {},
   "outputs": [
    {
     "name": "stdout",
     "output_type": "stream",
     "text": [
      "Linear(in_features=784, out_features=128, bias=True)\n",
      "Linear(in_features=784, out_features=128, bias=True)\n"
     ]
    }
   ],
   "source": [
    "print(model[0])\n",
    "print(model.fc1)"
   ]
  },
  {
   "cell_type": "markdown",
   "metadata": {},
   "source": [
    "In the next notebook, we'll see how we can train a neural network to accuractly predict the numbers appearing in the MNIST images."
   ]
  }
 ],
 "metadata": {
  "kernelspec": {
   "display_name": "Python 3",
   "language": "python",
   "name": "python3"
  },
  "language_info": {
   "codemirror_mode": {
    "name": "ipython",
    "version": 3
   },
   "file_extension": ".py",
   "mimetype": "text/x-python",
   "name": "python",
   "nbconvert_exporter": "python",
   "pygments_lexer": "ipython3",
   "version": "3.7.3"
  }
 },
 "nbformat": 4,
 "nbformat_minor": 2
}
